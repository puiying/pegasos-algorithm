{
 "cells": [
  {
   "cell_type": "code",
   "execution_count": 1,
   "metadata": {
    "executionInfo": {
     "elapsed": 13,
     "status": "ok",
     "timestamp": 1634768954103,
     "user_tz": 300
    },
    "id": "lJrRK5SoIVXY"
   },
   "outputs": [],
   "source": [
    "# import libraries\n",
    "from sgd import *"
   ]
  },
  {
   "cell_type": "code",
   "execution_count": null,
   "metadata": {
    "colab": {
     "base_uri": "https://localhost:8080/"
    },
    "id": "V7z0hW8O7UbA",
    "outputId": "88d85252-07a8-4fa9-f3b6-58a34119f320",
    "scrolled": false
   },
   "outputs": [],
   "source": [
    "%%time\n",
    "# run gradient descent with pegasos\n",
    "sgd('MNIST-13.csv', [0.0005, 0.01, 0.1, 0.5, 1], 5, pegasos)"
   ]
  },
  {
   "cell_type": "code",
   "execution_count": null,
   "metadata": {},
   "outputs": [],
   "source": []
  }
 ],
 "metadata": {
  "colab": {
   "collapsed_sections": [],
   "name": "myPegasos.ipynb",
   "provenance": []
  },
  "kernelspec": {
   "display_name": "Python 3",
   "language": "python",
   "name": "python3"
  },
  "language_info": {
   "codemirror_mode": {
    "name": "ipython",
    "version": 3
   },
   "file_extension": ".py",
   "mimetype": "text/x-python",
   "name": "python",
   "nbconvert_exporter": "python",
   "pygments_lexer": "ipython3",
   "version": "3.8.5"
  }
 },
 "nbformat": 4,
 "nbformat_minor": 1
}
